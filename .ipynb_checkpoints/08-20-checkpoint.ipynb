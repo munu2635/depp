{
 "cells": [
  {
   "cell_type": "code",
   "execution_count": 1,
   "metadata": {},
   "outputs": [
    {
     "name": "stdout",
     "output_type": "stream",
     "text": [
      "[20, 30]\n",
      "[10, 20, 30]\n",
      "[30, 40]\n",
      "[40, 50]\n"
     ]
    }
   ],
   "source": [
    "lst=[10, 20, 30, 40, 50]\n",
    "print (lst[1:3])\n",
    "print (lst[0:3])\n",
    "print (lst[2:4])\n",
    "print (lst[3:])"
   ]
  },
  {
   "cell_type": "code",
   "execution_count": 2,
   "metadata": {},
   "outputs": [
    {
     "name": "stdout",
     "output_type": "stream",
     "text": [
      "['red', 'blue', 'green', 'orange', 'black', 'white']\n",
      "['yellow', 'blue', 'green', 'yellow', 'blue', 'green']\n",
      "yellow\n",
      "blue\n",
      "green\n",
      "orange\n",
      "black\n",
      "white\n"
     ]
    }
   ],
   "source": [
    "# 리스트 \n",
    "color = ['red', 'blue', 'green']\n",
    "color2 = ['orange', 'black', 'white']\n",
    "\n",
    "print( color + color2 )\n",
    "len( color )\n",
    "color[0]='yellow'\n",
    "print(color*2)\n",
    "'blue' in color2\n",
    "total_color = color + color2\n",
    "for each_color in total_color :\n",
    "    print(each_color)"
   ]
  },
  {
   "cell_type": "code",
   "execution_count": 12,
   "metadata": {},
   "outputs": [
    {
     "name": "stdout",
     "output_type": "stream",
     "text": [
      "{'apple': 'green', 'banana': 'yellow', 'cherry': 'red'}\n",
      "apple green\n",
      "banana yellow\n",
      "cherry red\n",
      "apple\n",
      "banana\n",
      "cherry\n",
      "{'apple': 'green', 'banana': 'yellow'}\n",
      "{}\n"
     ]
    }
   ],
   "source": [
    "# 딕셔너리\n",
    "color = {'apple':'red', 'banana':'yellow'}\n",
    "color[\"cherry\"] = \"red\"\n",
    "color[\"apple\"]= \"green\"\n",
    "print(color)\n",
    "for k, v in color.items():\n",
    "    print(k,v)\n",
    "for k in color.keys():\n",
    "    print(k)\n",
    "del color['cherry']\n",
    "print(color)\n",
    "color.clear()\n",
    "print(color)"
   ]
  },
  {
   "cell_type": "code",
   "execution_count": 20,
   "metadata": {},
   "outputs": [
    {
     "name": "stdout",
     "output_type": "stream",
     "text": [
      "(1, 2, 3, 1, 2, 3) (1, 2, 3, 1, 2, 3)\n",
      "first = 42, second = 1024, third = 23\n"
     ]
    }
   ],
   "source": [
    "# 튜플 \n",
    "t = (1, 2, 3)\n",
    "print (t+t, t*2)\n",
    "len(t)\n",
    "# t[1]=5  에러 발생함 값의 변경이 불가능 \n",
    "my_tuple = (42, 1024, 23)\n",
    "(first, second, third) = my_tuple\n",
    "print('first = ', first, ', second = ', second, ', third = ', third, sep=''   )"
   ]
  },
  {
   "cell_type": "code",
   "execution_count": 37,
   "metadata": {},
   "outputs": [
    {
     "name": "stdout",
     "output_type": "stream",
     "text": [
      "[1 2 3]\n"
     ]
    },
    {
     "data": {
      "text/plain": [
       "1"
      ]
     },
     "execution_count": 37,
     "metadata": {},
     "output_type": "execute_result"
    }
   ],
   "source": [
    "# 넘파이 기본 \n",
    "import numpy as np\n",
    "a = np.array([1, 2, 3])\n",
    "print(a)\n",
    "type(a)\n",
    "y = np.array([2, 4, 6])\n",
    "a + y\n",
    "a / 2\n",
    "np.ndim(a)\n",
    "a.shape"
   ]
  },
  {
   "cell_type": "code",
   "execution_count": 47,
   "metadata": {},
   "outputs": [
    {
     "name": "stdout",
     "output_type": "stream",
     "text": [
      "[1 2]\n",
      "[3 4]\n",
      "[51 55 14 19  0  4]\n"
     ]
    },
    {
     "data": {
      "text/plain": [
       "array([51, 55, 19])"
      ]
     },
     "execution_count": 47,
     "metadata": {},
     "output_type": "execute_result"
    }
   ],
   "source": [
    "# 넘파이 브로드캐스트 \n",
    "A = np.array([[1, 2], [3, 4]])\n",
    "B = np.array([10,20])\n",
    "A * B\n",
    "A[0]\n",
    "for row in A:\n",
    "    print(row)\n",
    "X = np.array([[51, 55], [14, 19], [0, 4]])\n",
    "X = X.flatten()\n",
    "print(X)\n",
    "X[X>15]"
   ]
  },
  {
   "cell_type": "code",
   "execution_count": 62,
   "metadata": {},
   "outputs": [
    {
     "data": {
      "image/png": "[encoded data removed]",
      "text/plain": [
       "<Figure size 432x288 with 1 Axes>"
      ]
     },
     "metadata": {},
     "output_type": "display_data"
    }
   ],
   "source": [
    "# matplot-pyplot \n",
    "import matplotlib.pyplot as plt\n",
    "\n",
    "# 데이터 준비 \n",
    "x = np.arange(0, 6, 0.1)\n",
    "y1 = np.sin(x)\n",
    "y2 = np.cos(x)\n",
    "# 그래프 그리기 \n",
    "plt.plot(x, y1,\"r--\", label= 'sin')\n",
    "plt.plot(x, y2,\"g^\", label= 'cos')\n",
    "plt.xlabel(\"x\")\n",
    "plt.ylabel(\"y\")\n",
    "plt.title('sin&cos')\n",
    "plt.legend()\n",
    "plt.show()"
   ]
  },
  {
   "cell_type": "code",
   "execution_count": 69,
   "metadata": {},
   "outputs": [
    {
     "name": "stdout",
     "output_type": "stream",
     "text": [
      "Tensor(\"Add_3:0\", shape=(), dtype=int32)\n"
     ]
    },
    {
     "data": {
      "text/plain": [
       "42"
      ]
     },
     "execution_count": 69,
     "metadata": {},
     "output_type": "execute_result"
    }
   ],
   "source": [
    "# 텐서플로우 \n",
    "import tensorflow as tf\n",
    "\n",
    "a = tf.constant(10)\n",
    "b = tf.constant(32)\n",
    "c = tf.add(a, b)\n",
    "print(c)\n",
    "\n",
    "sess = tf.Session()\n",
    "sess.close\n",
    "sess.run(c)"
   ]
  },
  {
   "cell_type": "code",
   "execution_count": 70,
   "metadata": {},
   "outputs": [
    {
     "data": {
      "text/plain": [
       "23"
      ]
     },
     "execution_count": 70,
     "metadata": {},
     "output_type": "execute_result"
    }
   ],
   "source": [
    "a = tf.constant(5, name=\"input_a\")\n",
    "b = tf.constant(3, name=\"input_b\")\n",
    "c = tf.multiply(a, b, name=\"mul_c\")\n",
    "d = tf.add(a, b)\n",
    "e = tf.add(c, d)\n",
    "sess = tf.Session()\n",
    "sess.run(e)"
   ]
  },
  {
   "cell_type": "code",
   "execution_count": null,
   "metadata": {},
   "outputs": [],
   "source": []
  }
 ],
 "metadata": {
  "kernelspec": {
   "display_name": "Python 3",
   "language": "python",
   "name": "python3"
  },
  "language_info": {
   "codemirror_mode": {
    "name": "ipython",
    "version": 3
   },
   "file_extension": ".py",
   "mimetype": "text/x-python",
   "name": "python",
   "nbconvert_exporter": "python",
   "pygments_lexer": "ipython3",
   "version": "3.6.5"
  }
 },
 "nbformat": 4,
 "nbformat_minor": 2
}
