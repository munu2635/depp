{
 "cells": [
  {
   "cell_type": "code",
   "execution_count": 1,
   "metadata": {},
   "outputs": [
    {
     "name": "stdout",
     "output_type": "stream",
     "text": [
      "[20, 30]\n",
      "[10, 20, 30]\n",
      "[30, 40]\n",
      "[40, 50]\n"
     ]
    }
   ],
   "source": [
    "lst=[10, 20, 30, 40, 50]\n",
    "print (lst[1:3])\n",
    "print (lst[0:3])\n",
    "print (lst[2:4])\n",
    "print (lst[3:])"
   ]
  },
  {
   "cell_type": "code",
   "execution_count": 2,
   "metadata": {},
   "outputs": [
    {
     "name": "stdout",
     "output_type": "stream",
     "text": [
      "['red', 'blue', 'green', 'orange', 'black', 'white']\n",
      "['yellow', 'blue', 'green', 'yellow', 'blue', 'green']\n",
      "yellow\n",
      "blue\n",
      "green\n",
      "orange\n",
      "black\n",
      "white\n"
     ]
    }
   ],
   "source": [
    "color = ['red', 'blue', 'green']\n",
    "color2 = ['orange', 'black', 'white']\n",
    "\n",
    "print( color + color2 )\n",
    "len( color )\n",
    "color[0]='yellow'\n",
    "print(color*2)\n",
    "'blue' in color2\n",
    "total_color = color + color2\n",
    "for each_color in total_color :\n",
    "    print(each_color)"
   ]
  },
  {
   "cell_type": "code",
   "execution_count": null,
   "metadata": {},
   "outputs": [],
   "source": []
  }
 ],
 "metadata": {
  "kernelspec": {
   "display_name": "Python 3",
   "language": "python",
   "name": "python3"
  },
  "language_info": {
   "codemirror_mode": {
    "name": "ipython",
    "version": 3
   },
   "file_extension": ".py",
   "mimetype": "text/x-python",
   "name": "python",
   "nbconvert_exporter": "python",
   "pygments_lexer": "ipython3",
   "version": "3.6.5"
  }
 },
 "nbformat": 4,
 "nbformat_minor": 2
}
